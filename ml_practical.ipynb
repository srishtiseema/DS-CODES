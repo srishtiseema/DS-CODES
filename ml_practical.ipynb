{
  "nbformat": 4,
  "nbformat_minor": 0,
  "metadata": {
    "colab": {
      "provenance": [],
      "authorship_tag": "ABX9TyMgnhy2F+otGb2Rpm9y22RE",
      "include_colab_link": true
    },
    "kernelspec": {
      "name": "python3",
      "display_name": "Python 3"
    },
    "language_info": {
      "name": "python"
    }
  },
  "cells": [
    {
      "cell_type": "markdown",
      "metadata": {
        "id": "view-in-github",
        "colab_type": "text"
      },
      "source": [
        "<a href=\"https://colab.research.google.com/github/srishtiseema/DS-CODES/blob/main/ml_practical.ipynb\" target=\"_parent\"><img src=\"https://colab.research.google.com/assets/colab-badge.svg\" alt=\"Open In Colab\"/></a>"
      ]
    },
    {
      "cell_type": "code",
      "execution_count": null,
      "metadata": {
        "id": "pDixtyTDYFKp"
      },
      "outputs": [],
      "source": [
        "import numpy as np\n",
        "from sklearn.model_selection import train_test_split"
      ]
    },
    {
      "cell_type": "code",
      "source": [
        "x= np.arange(16).reshape((8,2))"
      ],
      "metadata": {
        "id": "BlaX2-YBYlPO"
      },
      "execution_count": null,
      "outputs": []
    },
    {
      "cell_type": "code",
      "source": [
        "import matplotlib.pyplot as plt"
      ],
      "metadata": {
        "id": "n3ulLOYXY3ND"
      },
      "execution_count": null,
      "outputs": []
    },
    {
      "cell_type": "code",
      "source": [
        "plt.plot(x)"
      ],
      "metadata": {
        "colab": {
          "base_uri": "https://localhost:8080/",
          "height": 465
        },
        "id": "UaTo_oLWY_s0",
        "outputId": "afcd6beb-cf81-4ee4-8de7-b1cae03fa38a"
      },
      "execution_count": null,
      "outputs": [
        {
          "output_type": "execute_result",
          "data": {
            "text/plain": [
              "[<matplotlib.lines.Line2D at 0x7c039c867990>,\n",
              " <matplotlib.lines.Line2D at 0x7c039ed10610>]"
            ]
          },
          "metadata": {},
          "execution_count": 5
        },
        {
          "output_type": "display_data",
          "data": {
            "text/plain": [
              "<Figure size 640x480 with 1 Axes>"
            ],
            "image/png": "[encoded data removed]"
          },
          "metadata": {}
        }
      ]
    },
    {
      "cell_type": "code",
      "source": [
        "y=range(8)\n",
        "x_train, x_test, y_train, y_test = train_test_split(x,y,train_size=0.8,random_state=42)"
      ],
      "metadata": {
        "id": "wBajumY5ZF-F"
      },
      "execution_count": null,
      "outputs": []
    },
    {
      "cell_type": "code",
      "source": [
        "print(\"Training set x :\", x_train)\n",
        "print(\"Training set y :\", y_train)"
      ],
      "metadata": {
        "colab": {
          "base_uri": "https://localhost:8080/"
        },
        "id": "zInb8-eCZtzL",
        "outputId": "cec0180d-dce4-4251-9007-983b8d341ddf"
      },
      "execution_count": null,
      "outputs": [
        {
          "output_type": "stream",
          "name": "stdout",
          "text": [
            "Training set x : [[ 0  1]\n",
            " [14 15]\n",
            " [ 4  5]\n",
            " [ 8  9]\n",
            " [ 6  7]\n",
            " [12 13]]\n",
            "Training set y : [0, 7, 2, 4, 3, 6]\n"
          ]
        }
      ]
    },
    {
      "cell_type": "code",
      "source": [
        "import numpy as np\n",
        "from sklearn.model_selection import train_test_split\n",
        "x = np.arange(16).reshape((8,2))\n",
        "y= range(8)\n",
        "x_train, x_test, y_train, y_test = train_test_split(x,y,test_size=0.2,random_state=35)\n",
        "print(\"Testing set x :\", x_test)\n",
        "print(\"Testing set y :\", y_test)\n"
      ],
      "metadata": {
        "colab": {
          "base_uri": "https://localhost:8080/"
        },
        "id": "XGs9sUBuaAKf",
        "outputId": "a720a716-d9ce-45e7-e730-c232e1bc9240"
      },
      "execution_count": null,
      "outputs": [
        {
          "output_type": "stream",
          "name": "stdout",
          "text": [
            "Testing set x : [[ 4  5]\n",
            " [10 11]]\n",
            "Testing set y : [2, 5]\n"
          ]
        }
      ]
    },
    {
      "cell_type": "code",
      "source": [
        "print(x_train)"
      ],
      "metadata": {
        "colab": {
          "base_uri": "https://localhost:8080/"
        },
        "id": "udLG281Qcqdl",
        "outputId": "da71c89a-2347-4e45-90b3-fa04f3b82338"
      },
      "execution_count": null,
      "outputs": [
        {
          "output_type": "stream",
          "name": "stdout",
          "text": [
            "[[ 0  1]\n",
            " [ 6  7]\n",
            " [12 13]\n",
            " [14 15]\n",
            " [ 8  9]\n",
            " [ 2  3]]\n"
          ]
        }
      ]
    },
    {
      "cell_type": "code",
      "source": [
        "print(y_train)"
      ],
      "metadata": {
        "colab": {
          "base_uri": "https://localhost:8080/"
        },
        "id": "XTfwPdLCcu4P",
        "outputId": "d9dbde13-69e4-4751-ca02-d0e35f13a0fb"
      },
      "execution_count": null,
      "outputs": [
        {
          "output_type": "stream",
          "name": "stdout",
          "text": [
            "[0, 3, 6, 7, 4, 1]\n"
          ]
        }
      ]
    },
    {
      "cell_type": "code",
      "source": [
        "import numpy as np\n",
        "from sklearn.model_selection import train_test_split\n",
        "x=np.arange(24).reshape((8,3))\n",
        "y=range(8)\n",
        "x_train, x_combine, y_train, y_combine = train_test_split(x,y,train_size=0.8,random_state=42)\n",
        "x_val, x_test, y_val, y_test = train_test_split(x_combine,y_combine,train_size=0.5,random_state=42)\n",
        "print(\"Training set x :\", x_train)\n",
        "print(\"Training set y :\", y_train)\n",
        "print(\" \")\n",
        "print(\"Testing set x :\", x_test)\n",
        "print(\"Testing set y :\", y_test)\n",
        "print(\" \")\n",
        "print(\"Validation set x :\", x_val)\n",
        "print(\"Validation set y :\", y_val)\n",
        "\n"
      ],
      "metadata": {
        "colab": {
          "base_uri": "https://localhost:8080/"
        },
        "id": "zu0g89vXdOqV",
        "outputId": "12edad1d-7e41-496a-9b86-b36851cc880e"
      },
      "execution_count": null,
      "outputs": [
        {
          "output_type": "stream",
          "name": "stdout",
          "text": [
            "Training set x : [[ 0  1  2]\n",
            " [21 22 23]\n",
            " [ 6  7  8]\n",
            " [12 13 14]\n",
            " [ 9 10 11]\n",
            " [18 19 20]]\n",
            "Training set y : [0, 7, 2, 4, 3, 6]\n",
            " \n",
            "Testing set x : [[15 16 17]]\n",
            "Testing set y : [5]\n",
            " \n",
            "Validation set x : [[3 4 5]]\n",
            "Validation set y : [1]\n"
          ]
        }
      ]
    }
  ]
}